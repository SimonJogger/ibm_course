{
 "cells": [
  {
   "cell_type": "markdown",
   "metadata": {},
   "source": [
    "# Capstone project: The Battle of Neighborhoods"
   ]
  },
  {
   "cell_type": "markdown",
   "metadata": {},
   "source": [
    "## Backgound"
   ]
  },
  {
   "cell_type": "markdown",
   "metadata": {},
   "source": [
    "I live in Australia thus I want to perform a local case study using Foursquare location data.\n",
    "\n",
    "Sydney and Melbourne are well-known to be the most famous cities in Australia, and these two cities are both proud of their cultural diversity. However, Sydney and Melbourne are competing with each other in many aspects to show \"this city\" is the effective cultural capital of Australia.\n",
    "\n",
    "Hence, in this capstone project, I would like to provide a little evidence that between Sydney and Melbourne, which is the city has a more diverse dining culture."
   ]
  },
  {
   "cell_type": "markdown",
   "metadata": {},
   "source": [
    "## Data description"
   ]
  },
  {
   "cell_type": "markdown",
   "metadata": {},
   "source": [
    "To perform the case study I introduced in the background section, I will choose the central parts of the two cities as the reference locations. Hence, I will choose to use 'Sydney Townhall' as the central point in Sydney, and use 'Melbourne Townhall' as the central point in Melbourne. The exploring radius will be set as 2.5km which is likely to cover the most active areas of the two cities.\n",
    "\n",
    "The data will be used include:\n",
    "\n",
    "1. Restaurant name;\n",
    "2. Restaurant category;\n",
    "3. Restaurant expense;\n",
    "4. The number of tips for each restaurant.\n",
    "\n",
    "Then I will:\n",
    "\n",
    "1. Use the Foursqure agent to explore the restaurants around the two central points, will a limit of 200;\n",
    "2. Compare how diverse these restaurants are in terms of styles (say Italian, French, Chinese...);\n",
    "3. Compare how diverse these restaurants are in terms of expense level (say street food, cheap, medium, expensive, luxury);\n",
    "4. Compare how popular these restaurants are in terms of the tips in the Foursquare location data."
   ]
  },
  {
   "cell_type": "code",
   "execution_count": null,
   "metadata": {},
   "outputs": [],
   "source": []
  }
 ],
 "metadata": {
  "kernelspec": {
   "display_name": "Python 3",
   "language": "python",
   "name": "python3"
  },
  "language_info": {
   "codemirror_mode": {
    "name": "ipython",
    "version": 3
   },
   "file_extension": ".py",
   "mimetype": "text/x-python",
   "name": "python",
   "nbconvert_exporter": "python",
   "pygments_lexer": "ipython3",
   "version": "3.6.8"
  },
  "toc": {
   "base_numbering": 1,
   "nav_menu": {},
   "number_sections": true,
   "sideBar": true,
   "skip_h1_title": false,
   "title_cell": "Table of Contents",
   "title_sidebar": "Contents",
   "toc_cell": false,
   "toc_position": {},
   "toc_section_display": true,
   "toc_window_display": false
  }
 },
 "nbformat": 4,
 "nbformat_minor": 2
}
